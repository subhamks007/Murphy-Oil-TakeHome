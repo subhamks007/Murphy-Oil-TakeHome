{
 "cells": [
  {
   "cell_type": "code",
   "execution_count": 2,
   "id": "73237d1c",
   "metadata": {},
   "outputs": [
    {
     "name": "stdout",
     "output_type": "stream",
     "text": [
      "Collecting psycopg2\n",
      "  Downloading psycopg2-2.9.3-cp38-cp38-win_amd64.whl (1.1 MB)\n",
      "Installing collected packages: psycopg2\n",
      "Successfully installed psycopg2-2.9.3\n"
     ]
    }
   ],
   "source": [
    "#!pip install psycopg2"
   ]
  },
  {
   "cell_type": "code",
   "execution_count": null,
   "id": "8170c1a9",
   "metadata": {},
   "outputs": [],
   "source": [
    "path = \"E:\\UB\\Sem 2\\CSE 560 - DMQL\\Project\\DB\\dmql_project.db\""
   ]
  },
  {
   "cell_type": "code",
   "execution_count": 26,
   "id": "c381a3ba",
   "metadata": {},
   "outputs": [],
   "source": [
    "conn = psycopg2.connect(\"host=localhost dbname=dmql_project user=postgres password=12Bme1105@\")"
   ]
  },
  {
   "cell_type": "code",
   "execution_count": 27,
   "id": "69c07fbf",
   "metadata": {},
   "outputs": [],
   "source": [
    "cur = conn.cursor()\n",
    "cur.execute(\"\"\"\n",
    "    CREATE TABLE abc(\n",
    "    id integer PRIMARY KEY,\n",
    "    email text,\n",
    "    name text,\n",
    "    address text\n",
    ")\n",
    "\"\"\")\n"
   ]
  },
  {
   "cell_type": "code",
   "execution_count": 28,
   "id": "73d0513a",
   "metadata": {},
   "outputs": [],
   "source": [
    "conn.commit()"
   ]
  },
  {
   "cell_type": "code",
   "execution_count": 29,
   "id": "e28df6a4",
   "metadata": {},
   "outputs": [],
   "source": [
    "\n",
    "insert_query = \"INSERT INTO abc VALUES {}\".format(\"(10, 'hello@dataquest.io', 'Some Name', '123 Fake St.')\")\n",
    "cur.execute(insert_query)\n",
    "conn.commit()"
   ]
  },
  {
   "cell_type": "code",
   "execution_count": null,
   "id": "e8f481e4",
   "metadata": {},
   "outputs": [],
   "source": []
  }
 ],
 "metadata": {
  "kernelspec": {
   "display_name": "Python 3",
   "language": "python",
   "name": "python3"
  },
  "language_info": {
   "codemirror_mode": {
    "name": "ipython",
    "version": 3
   },
   "file_extension": ".py",
   "mimetype": "text/x-python",
   "name": "python",
   "nbconvert_exporter": "python",
   "pygments_lexer": "ipython3",
   "version": "3.8.8"
  }
 },
 "nbformat": 4,
 "nbformat_minor": 5
}
